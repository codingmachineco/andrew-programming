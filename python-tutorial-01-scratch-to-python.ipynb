{
 "cells": [
  {
   "cell_type": "markdown",
   "metadata": {},
   "source": [
    "# Python Tutorial 01: From Scratch to Python 🐍\n",
    "\n",
    "Welcome to your first Python lesson! Since you already know Scratch, we'll connect what you learned there to Python.\n",
    "\n",
    "## What You'll Learn Today:\n",
    "- Variables (like Scratch variables)\n",
    "- Printing messages (like \"say\" blocks)\n",
    "- Getting input from users\n",
    "- Basic math operations\n",
    "- Writing comments in code"
   ]
  },
  {
   "cell_type": "markdown",
   "metadata": {},
   "source": [
    "## 1. Variables - Storing Information 📦\n",
    "\n",
    "Remember in Scratch how you could create variables to store numbers or text? Python works the same way!\n",
    "\n",
    "**In Scratch:** You drag a \"set variable to\" block\n",
    "\n",
    "**In Python:** You write `variable_name = value`"
   ]
  },
  {
   "cell_type": "code",
   "execution_count": null,
   "metadata": {},
   "source": [
    "# Creating variables (just like in Scratch!)\n",
    "player_name = \"Alex\"\n",
    "player_age = 10\n",
    "player_score = 150\n",
    "is_game_over = False\n",
    "\n",
    "print(\"Player name:\", player_name)\n",
    "print(\"Player age:\", player_age)\n",
    "print(\"Player score:\", player_score)\n",
    "print(\"Game over?\", is_game_over)"
   ],
   "outputs": []
  },
  {
   "cell_type": "markdown",
   "metadata": {},
   "source": [
    "### 🔵 Exercise 1: Create Your Variables\n",
    "Create variables about yourself and print them out:"
   ]
  },
  {
   "cell_type": "code",
   "execution_count": null,
   "metadata": {},
   "source": [
    "# Your turn! Create variables about yourself\n",
    "# Hint: Create variables for your name, age, favorite number, and favorite color\n",
    "\n",
    "# Write your code here:\n",
    "\n"
   ],
   "outputs": []
  },
  {
   "cell_type": "markdown",
   "metadata": {},
   "source": [
    "## 2. Printing Messages - Like \"Say\" Blocks! 💬\n",
    "\n",
    "In Scratch, you used \"say\" blocks to show messages. In Python, we use `print()`!"
   ]
  },
  {
   "cell_type": "code",
   "execution_count": null,
   "metadata": {},
   "source": [
    "# Different ways to print messages\n",
    "print(\"Hello, World!\")\n",
    "print(\"My favorite number is:\", 42)\n",
    "\n",
    "# You can print multiple things at once\n",
    "name = \"Python Learner\"\n",
    "print(\"Hello,\", name, \"! Welcome to Python!\")\n",
    "\n",
    "# You can even do math inside print\n",
    "print(\"5 + 3 =\", 5 + 3)"
   ],
   "outputs": []
  },
  {
   "cell_type": "markdown",
   "metadata": {},
   "source": [
    "### 🔵 Exercise 2: Print Fun Messages\n",
    "Practice printing different types of messages:"
   ]
  },
  {
   "cell_type": "code",
   "execution_count": null,
   "metadata": {},
   "source": [
    "# Your turn! Try these challenges:\n",
    "# 1. Print your name and age in one message\n",
    "# 2. Print the result of 10 + 5\n",
    "# 3. Print a fun fact about yourself\n",
    "\n",
    "# Write your code here:\n",
    "\n"
   ],
   "outputs": []
  },
  {
   "cell_type": "markdown",
   "metadata": {},
   "source": [
    "## 3. Getting Input from Users 🎤\n",
    "\n",
    "In Scratch, you used \"ask and wait\" blocks. In Python, we use `input()`!"
   ]
  },
  {
   "cell_type": "code",
   "execution_count": null,
   "metadata": {},
   "source": [
    "# Getting input from the user\n",
    "user_name = input(\"What's your name? \")\n",
    "print(\"Nice to meet you,\", user_name, \"!\")\n",
    "\n",
    "# Getting a number (we need to convert it)\n",
    "user_age = input(\"How old are you? \")\n",
    "user_age = int(user_age)  # Convert text to number\n",
    "print(\"Wow, you are\", user_age, \"years old!\")"
   ],
   "outputs": []
  },
  {
   "cell_type": "markdown",
   "metadata": {},
   "source": [
    "### 🔵 Exercise 3: Interactive Questions\n",
    "Create a program that asks questions and responds:"
   ]
  },
  {
   "cell_type": "code",
   "execution_count": null,
   "metadata": {},
   "source": [
    "# Your turn! Create an interactive program:\n",
    "# 1. Ask for the user's favorite color\n",
    "# 2. Ask for their favorite number\n",
    "# 3. Print a message using both answers\n",
    "\n",
    "# Write your code here:\n",
    "\n"
   ],
   "outputs": []
  },
  {
   "cell_type": "markdown",
   "metadata": {},
   "source": [
    "## 4. Math Operations - Just Like in Scratch! 🧮\n",
    "\n",
    "Python can do all the math operations you used in Scratch, and more!"
   ]
  },
  {
   "cell_type": "code",
   "execution_count": null,
   "metadata": {},
   "source": [
    "# Basic math operations\n",
    "addition = 10 + 5\n",
    "subtraction = 10 - 3\n",
    "multiplication = 6 * 4\n",
    "division = 20 / 4\n",
    "exponent = 2 ** 3  # 2 to the power of 3\n",
    "\n",
    "print(\"Addition:\", addition)\n",
    "print(\"Subtraction:\", subtraction)\n",
    "print(\"Multiplication:\", multiplication)\n",
    "print(\"Division:\", division)\n",
    "print(\"2 to the power of 3:\", exponent)\n",
    "\n",
    "# You can use variables in math too!\n",
    "number1 = 15\n",
    "number2 = 7\n",
    "result = number1 + number2\n",
    "print(f\"{number1} + {number2} = {result}\")"
   ],
   "outputs": []
  },
  {
   "cell_type": "markdown",
   "metadata": {},
   "source": [
    "### 🔵 Exercise 4: Math Practice\n",
    "Create a simple calculator:"
   ]
  },
  {
   "cell_type": "code",
   "execution_count": null,
   "metadata": {},
   "source": [
    "# Your turn! Create a calculator:\n",
    "# 1. Ask the user for two numbers\n",
    "# 2. Calculate addition, subtraction, multiplication, and division\n",
    "# 3. Print all the results\n",
    "\n",
    "# Write your code here:\n",
    "\n"
   ],
   "outputs": []
  },
  {
   "cell_type": "markdown",
   "metadata": {},
   "source": [
    "## 5. Comments - Notes for Yourself 📝\n",
    "\n",
    "Comments are notes you write in your code to explain what it does. They start with `#` and Python ignores them."
   ]
  },
  {
   "cell_type": "code",
   "execution_count": null,
   "metadata": {},
   "source": [
    "# This is a comment - it explains what the code does\n",
    "player_health = 100  # Starting health for the player\n",
    "\n",
    "# You can write longer comments too\n",
    "# This section calculates the player's final score\n",
    "base_score = 500\n",
    "bonus_points = 150\n",
    "final_score = base_score + bonus_points  # Add bonus to base score\n",
    "\n",
    "print(\"Final score:\", final_score)"
   ],
   "outputs": []
  },
  {
   "cell_type": "markdown",
   "metadata": {},
   "source": [
    "## 🎯 Project 1: Name and Age Calculator\n",
    "\n",
    "Let's build your first Python project! This program will:\n",
    "1. Ask for your name and age\n",
    "2. Calculate how old you'll be in 10 years\n",
    "3. Calculate how many days old you are (approximately)\n",
    "4. Print a personalized message"
   ]
  },
  {
   "cell_type": "code",
   "execution_count": null,
   "metadata": {},
   "source": [
    "# Project 1: Name and Age Calculator\n",
    "# Complete this program by filling in the missing parts\n",
    "\n",
    "print(\"=== Welcome to the Age Calculator! ===\")\n",
    "print()\n",
    "\n",
    "# Get user information\n",
    "name = input(\"What's your name? \")\n",
    "age = input(\"How old are you? \")\n",
    "age = int(age)  # Convert to number\n",
    "\n",
    "# Calculate future age\n",
    "future_age = age + 10\n",
    "\n",
    "# Calculate approximate days old (365 days per year)\n",
    "days_old = age * 365\n",
    "\n",
    "# Print results\n",
    "print()\n",
    "print(f\"Hi {name}!\")\n",
    "print(f\"You are currently {age} years old.\")\n",
    "print(f\"In 10 years, you will be {future_age} years old.\")\n",
    "print(f\"You are approximately {days_old} days old!\")\n",
    "\n",
    "# Bonus: Add a fun fact\n",
    "hours_old = days_old * 24\n",
    "print(f\"That's about {hours_old} hours of being awesome!\")"
   ],
   "outputs": []
  },
  {
   "cell_type": "markdown",
   "metadata": {},
   "source": [
    "## 🎯 Project 2: Simple Math Quiz Game\n",
    "\n",
    "Create a fun math quiz that asks the user questions and checks their answers!"
   ]
  },
  {
   "cell_type": "code",
   "execution_count": null,
   "metadata": {},
   "source": [
    "# Project 2: Math Quiz Game\n",
    "# Your challenge: Complete this math quiz program\n",
    "\n",
    "print(\"=== Math Quiz Time! ===\")\n",
    "print(\"Let's test your math skills!\")\n",
    "print()\n",
    "\n",
    "# Question 1: Addition\n",
    "print(\"Question 1: What is 15 + 27?\")\n",
    "answer1 = input(\"Your answer: \")\n",
    "answer1 = int(answer1)\n",
    "correct1 = 15 + 27\n",
    "\n",
    "if answer1 == correct1:\n",
    "    print(\"Correct! Great job!\")\n",
    "else:\n",
    "    print(f\"Not quite. The answer is {correct1}\")\n",
    "\n",
    "print()\n",
    "\n",
    "# Question 2: Multiplication\n",
    "print(\"Question 2: What is 8 × 9?\")\n",
    "answer2 = input(\"Your answer: \")\n",
    "answer2 = int(answer2)\n",
    "correct2 = 8 * 9\n",
    "\n",
    "if answer2 == correct2:\n",
    "    print(\"Excellent! You're doing great!\")\n",
    "else:\n",
    "    print(f\"Close! The answer is {correct2}\")\n",
    "\n",
    "print()\n",
    "print(\"Thanks for playing the math quiz!\")"
   ],
   "outputs": []
  },
  {
   "cell_type": "markdown",
   "metadata": {},
   "source": [
    "## 🎯 Project 3: Mad Libs Story Generator\n",
    "\n",
    "Remember Mad Libs? Let's create a fun story using the user's input!"
   ]
  },
  {
   "cell_type": "code",
   "execution_count": null,
   "metadata": {},
   "source": [
    "# Project 3: Mad Libs Story Generator\n",
    "# Fill in this program to create a funny story\n",
    "\n",
    "print(\"=== Mad Libs Story Generator! ===\")\n",
    "print(\"I'll ask you for some words, then create a funny story!\")\n",
    "print()\n",
    "\n",
    "# Collect words from the user\n",
    "name = input(\"Enter a name: \")\n",
    "animal = input(\"Enter an animal: \")\n",
    "color = input(\"Enter a color: \")\n",
    "food = input(\"Enter a food: \")\n",
    "number = input(\"Enter a number: \")\n",
    "adjective = input(\"Enter an adjective (describing word): \")\n",
    "place = input(\"Enter a place: \")\n",
    "\n",
    "print()\n",
    "print(\"=== Your Mad Libs Story! ===\")\n",
    "print()\n",
    "\n",
    "# Create the story using the user's words\n",
    "story = f\"\"\"Once upon a time, there was a {adjective} person named {name}.\n",
    "{name} had a pet {animal} that was {color} and loved to eat {food}.\n",
    "\n",
    "One day, they went to {place} together and found {number} magical treasures!\n",
    "The {animal} was so excited that it started dancing and singing.\n",
    "\n",
    "From that day on, {name} and the {color} {animal} were the best of friends,\n",
    "and they shared {food} every day while counting their {number} treasures.\n",
    "\n",
    "The End!\"\"\"\n",
    "\n",
    "print(story)"
   ],
   "outputs": []
  },
  {
   "cell_type": "markdown",
   "metadata": {},
   "source": [
    "## 🏆 Challenge: Create Your Own Program!\n",
    "\n",
    "Now it's your turn to be creative! Use the empty cell below to create your own program using what you've learned:\n",
    "\n",
    "**Ideas:**\n",
    "- A program that converts your age to dog years\n",
    "- A simple tip calculator for restaurants\n",
    "- A program that tells you how many hours are in a certain number of days\n",
    "- A favorite things collector that asks about your favorites and prints them nicely\n",
    "\n",
    "Be creative and have fun!"
   ]
  },
  {
   "cell_type": "code",
   "execution_count": null,
   "metadata": {},
   "source": [
    "# Your creative program goes here!\n",
    "# Remember to:\n",
    "# - Use variables to store information\n",
    "# - Use input() to get information from the user\n",
    "# - Use print() to show results\n",
    "# - Add comments to explain your code\n",
    "# - Have fun!\n",
    "\n"
   ],
   "outputs": []
  },
  {
   "cell_type": "markdown",
   "metadata": {},
   "source": [
    "## 🎉 Congratulations!\n",
    "\n",
    "You've completed your first Python lesson! You've learned how to:\n",
    "\n",
    "✅ Create and use variables (just like in Scratch!)\n",
    "✅ Print messages to the screen\n",
    "✅ Get input from users\n",
    "✅ Do math operations\n",
    "✅ Write helpful comments\n",
    "✅ Build complete programs!\n",
    "\n",
    "### What's Next?\n",
    "In the next lesson, we'll learn about making decisions with `if` statements and repeating actions with loops - just like the decision and loop blocks in Scratch!\n",
    "\n",
    "### Homework (Optional but Fun!):\n",
    "Try creating one more program using everything you learned today. Maybe a program that:\n",
    "- Asks for your favorite movie and tells you something fun about it\n",
    "- Calculates how many minutes are in your age\n",
    "- Creates a personalized greeting card message\n",
    "\n",
    "Keep experimenting and having fun with Python! 🐍✨"
   ]
  }
 ],
 "metadata": {
  "kernelspec": {
   "display_name": "Python 3",
   "language": "python",
   "name": "python3"
  },
  "language_info": {
   "codemirror_mode": {
    "name": "ipython",
    "version": 3
   },
   "file_extension": ".py",
   "mimetype": "text/x-python",
   "name": "python",
   "nbconvert_exporter": "python",
   "pygments_lexer": "ipython3",
   "version": "3.8.5"
  }
 },
 "nbformat": 4,
 "nbformat_minor": 4
}